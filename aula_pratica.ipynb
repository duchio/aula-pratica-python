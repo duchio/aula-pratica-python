{
 "cells": [
  {
   "cell_type": "markdown",
   "metadata": {},
   "source": [
    "# Aula Prática - Processamento de Imagem com Python\n",
    "Nesta aula, vamos carregar, visualizar e processar imagens usando OpenCV e Matplotlib."
   ]
  },
  {
   "cell_type": "code",
   "execution_count": null,
   "metadata": {},
   "outputs": [],
   "source": [
    "import cv2\n",
    "import numpy as np\n",
    "import matplotlib.pyplot as plt\n",
    "\n",
    "# Carregar imagem\n",
    "img = cv2.imread('dados/imagem1.png', cv2.IMREAD_GRAYSCALE)\n",
    "\n",
    "# Mostrar imagem original\n",
    "plt.imshow(img, cmap='gray')\n",
    "plt.title('Imagem Original')\n",
    "plt.axis('off')\n",
    "plt.show()"
   ]
  },
  {
   "cell_type": "code",
   "execution_count": null,
   "metadata": {},
   "outputs": [],
   "source": [
    "# Detectar bordas com Canny\n",
    "edges = cv2.Canny(img, 100, 200)\n",
    "plt.imshow(edges, cmap='gray')\n",
    "plt.title('Bordas Detectadas')\n",
    "plt.axis('off')\n",
    "plt.show()"
   ]
  },
  {
   "cell_type": "code",
   "execution_count": null,
   "metadata": {},
   "outputs": [],
   "source": [
    "# Estatísticas básicas\n",
    "print(f'Tamanho da imagem: {img.shape}')\n",
    "print(f'Valor médio de pixel: {np.mean(img):.2f}')"
   ]
  }
 ],
 "metadata": {
  "kernelspec": {
   "display_name": "Python 3",
   "language": "python",
   "name": "python3"
  },
  "language_info": {
   "name": "python",
   "version": "3.x"
  }
 },
 "nbformat": 4,
 "nbformat_minor": 2
}
