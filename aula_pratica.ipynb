{
 "cells": [
  {
   "cell_type": "markdown",
   "id": "1d97aeb0",
   "metadata": {},
   "source": [
    "# Aula Prática - Processamento de Imagem com Python\n",
    "Este notebook está preparado para rodar **no Google Colab**. Ele baixa os arquivos do repositório, entra na pasta correta e carrega a imagem de exemplo."
   ]
  },
  {
   "cell_type": "code",
   "execution_count": null,
   "id": "bb4e9a53",
   "metadata": {},
   "outputs": [],
   "source": [
    "# 🔧 Setup: clonar o repositório e entrar na pasta (Colab)\n",
    "import os, subprocess, pathlib\n",
    "\n",
    "REPO_URL = \"https://github.com/duchio/aula-pratica-python.git\"\n",
    "REPO_DIR = \"aula-pratica-python\"\n",
    "\n",
    "if not pathlib.Path(REPO_DIR).exists():\n",
    "    print(\"Clonando repositório...\", REPO_URL)\n",
    "    subprocess.run([\"git\", \"clone\", REPO_URL], check=True)\n",
    "else:\n",
    "    print(\"Repositório já existe, seguindo em frente.\")\n",
    "\n",
    "os.chdir(REPO_DIR)\n",
    "print(\"Diretório atual:\", os.getcwd())\n",
    "\n",
    "print(\"Conteúdo disponível:\")\n",
    "for p in sorted([str(p) for p in pathlib.Path('.').rglob('*') if p.is_file()])[:20]:\n",
    "    print(p)"
   ]
  },
  {
   "cell_type": "code",
   "execution_count": null,
   "id": "6983de90",
   "metadata": {},
   "outputs": [],
   "source": [
    "# 📦 Importar bibliotecas\n",
    "import cv2\n",
    "import numpy as np\n",
    "import matplotlib.pyplot as plt\n",
    "from pathlib import Path\n",
    "\n",
    "%matplotlib inline"
   ]
  },
  {
   "cell_type": "code",
   "execution_count": null,
   "id": "5ddb6715",
   "metadata": {},
   "outputs": [],
   "source": [
    "# 🖼️ Carregar e mostrar imagem\n",
    "img_path = Path('dados') / 'imagem1.png'\n",
    "\n",
    "if not img_path.exists():\n",
    "    raise FileNotFoundError(f\"Não encontrei {img_path}. Verifique se o clone deu certo e se o caminho está correto.\")\n",
    "\n",
    "img = cv2.imread(str(img_path), cv2.IMREAD_GRAYSCALE)\n",
    "if img is None:\n",
    "    raise RuntimeError(\"OpenCV não conseguiu carregar a imagem.\")\n",
    "\n",
    "plt.imshow(img, cmap='gray')\n",
    "plt.title('Imagem Original')\n",
    "plt.axis('off')\n",
    "plt.show()\n",
    "\n",
    "print(f\"Dimensões: {img.shape}\")\n",
    "print(f\"Média dos pixels: {np.mean(img):.2f}\")"
   ]
  },
  {
   "cell_type": "code",
   "execution_count": null,
   "id": "13acda3f",
   "metadata": {},
   "outputs": [],
   "source": [
    "# ✂️ Detecção de bordas (Canny) — ajuste os thresholds e rode novamente\n",
    "t1, t2 = 100, 200  # experimente (50,150) ou (150,250)\n",
    "edges = cv2.Canny(img, t1, t2)\n",
    "\n",
    "plt.imshow(edges, cmap='gray')\n",
    "plt.title(f'Bordas Detectadas (Canny t1={t1}, t2={t2})')\n",
    "plt.axis('off')\n",
    "plt.show()"
   ]
  },
  {
   "cell_type": "code",
   "execution_count": null,
   "id": "f1f80c15",
   "metadata": {},
   "outputs": [],
   "source": [
    "# 💾 (Opcional) salvar a imagem de bordas\n",
    "out_path = Path('dados') / 'bordas.png'\n",
    "cv2.imwrite(str(out_path), edges)\n",
    "print('Arquivo salvo em:', out_path.resolve())"
   ]
  }
 ],
 "metadata": {},
 "nbformat": 4,
 "nbformat_minor": 5
}
