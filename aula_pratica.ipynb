# 1️⃣ Baixar o repositório e entrar na pasta
!git clone https://github.com/duchio/aula-pratica-python.git
%cd aula-pratica-python

# 2️⃣ Importar bibliotecas
import cv2
import numpy as np
import matplotlib.pyplot as plt

# 3️⃣ Carregar imagem
img = cv2.imread('dados/imagem1.png', cv2.IMREAD_GRAYSCALE)

# 4️⃣ Verificar se a imagem foi carregada
if img is None:
    print("Erro: Imagem não encontrada.")
else:
    # Mostrar imagem original
    plt.imshow(img, cmap='gray')
    plt.title('Imagem Original')
    plt.axis('off')
    plt.show()

    # Detectar bordas
    edges = cv2.Canny(img, 100, 200)
    plt.imshow(edges, cmap='gray')
    plt.title('Bordas Detectadas')
    plt.axis('off')
    plt.show()

    # Estatísticas básicas
    print(f"Tamanho: {img.shape}")
    print(f"Valor médio de pixel: {np.mean(img):.2f}")
